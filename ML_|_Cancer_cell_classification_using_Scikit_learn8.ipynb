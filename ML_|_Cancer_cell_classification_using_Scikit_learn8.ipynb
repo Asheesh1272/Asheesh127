{
  "nbformat": 4,
  "nbformat_minor": 0,
  "metadata": {
    "colab": {
      "private_outputs": true,
      "provenance": [],
      "authorship_tag": "ABX9TyN6z9Gwy7QWctGh7ICEQrUQ",
      "include_colab_link": true
    },
    "kernelspec": {
      "name": "python3",
      "display_name": "Python 3"
    },
    "language_info": {
      "name": "python"
    }
  },
  "cells": [
    {
      "cell_type": "markdown",
      "metadata": {
        "id": "view-in-github",
        "colab_type": "text"
      },
      "source": [
        "<a href=\"https://colab.research.google.com/github/Asheesh1272/Asheesh127/blob/main/ML_%7C_Cancer_cell_classification_using_Scikit_learn8.ipynb\" target=\"_parent\"><img src=\"https://colab.research.google.com/assets/colab-badge.svg\" alt=\"Open In Colab\"/></a>"
      ]
    },
    {
      "cell_type": "code",
      "source": [
        "from sklearn.datasets import load_breast_cancer\n",
        "\n",
        "\n",
        "cancer_data = load_breast_cancer()\n",
        "\n",
        "X = cancer_data.data\n",
        "y = cancer_data.target\n",
        "\n",
        "print(X.shape)\n",
        "print(y.shape)"
      ],
      "metadata": {
        "id": "GUZIQueTrOI_"
      },
      "execution_count": null,
      "outputs": []
    },
    {
      "cell_type": "code",
      "source": [
        "from sklearn.datasets import load_breast_cancer\n",
        "\n",
        "cancer_data = load_breast_cancer()\n",
        "\n",
        "\n",
        "X = cancer_data.data\n",
        "y = cancer_data.target\n",
        "\n",
        "print(X.shape)\n",
        "print(y.shape)"
      ],
      "metadata": {
        "id": "X6JBKAFcrSYI"
      },
      "execution_count": null,
      "outputs": []
    },
    {
      "cell_type": "code",
      "source": [
        "pip install scikit-learn"
      ],
      "metadata": {
        "id": "JxZ8swB7rTiN"
      },
      "execution_count": null,
      "outputs": []
    },
    {
      "cell_type": "code",
      "source": [
        "pip install jupyter"
      ],
      "metadata": {
        "id": "x4DONrK8rXpM"
      },
      "execution_count": null,
      "outputs": []
    },
    {
      "cell_type": "code",
      "source": [
        "\n",
        "import sklearn\n",
        "\n",
        "\n",
        "from sklearn.datasets import load_breast_cancer"
      ],
      "metadata": {
        "id": "j6QDTP0RrlAM"
      },
      "execution_count": null,
      "outputs": []
    },
    {
      "cell_type": "code",
      "source": [
        "\n",
        "data = load_breast_cancer()"
      ],
      "metadata": {
        "id": "oESWzb2irnrs"
      },
      "execution_count": null,
      "outputs": []
    },
    {
      "cell_type": "code",
      "source": [
        "\n",
        "label_names = data['target_names']\n",
        "labels = data['target']\n",
        "feature_names = data['feature_names']\n",
        "features = data['data']"
      ],
      "metadata": {
        "id": "iHI4_PHwrrOA"
      },
      "execution_count": null,
      "outputs": []
    },
    {
      "cell_type": "code",
      "source": [
        "\n",
        "print(label_names)"
      ],
      "metadata": {
        "id": "gOsPXq4WrshG"
      },
      "execution_count": null,
      "outputs": []
    },
    {
      "cell_type": "code",
      "source": [
        "print(labels)"
      ],
      "metadata": {
        "id": "tSvj52byruvp"
      },
      "execution_count": null,
      "outputs": []
    },
    {
      "cell_type": "code",
      "source": [
        "print(feature_names)"
      ],
      "metadata": {
        "id": "nJUzyQEvrxR_"
      },
      "execution_count": null,
      "outputs": []
    },
    {
      "cell_type": "code",
      "source": [
        "print(features)\n",
        "print(object, features)"
      ],
      "metadata": {
        "id": "fCWU9bp9r0_G"
      },
      "execution_count": null,
      "outputs": []
    },
    {
      "cell_type": "code",
      "source": [
        "\n",
        "from sklearn.model_selection import train_test_split\n",
        "\n",
        "\n",
        "train, test, train_labels, test_labels = train_test_split(features, labels,\n",
        "                                       test_size = 0.33, random_state = 42)"
      ],
      "metadata": {
        "id": "5P34ySubr3U9"
      },
      "execution_count": null,
      "outputs": []
    },
    {
      "cell_type": "code",
      "source": [
        "\n",
        "predictions = gnb.predict(test)\n",
        "\n",
        "\n",
        "print(predictions)"
      ],
      "metadata": {
        "id": "rMW28quHr6Qb"
      },
      "execution_count": null,
      "outputs": []
    },
    {
      "cell_type": "code",
      "source": [
        "\n",
        "from sklearn.model_selection import train_test_split\n",
        "from sklearn.naive_bayes import GaussianNB\n",
        "from sklearn.metrics import accuracy_score\n",
        "\n",
        "\n",
        "train, test, train_labels, test_labels = train_test_split(features, labels,\n",
        "                                                          test_size=0.33, random_state=42)\n",
        "\n",
        "gnb = GaussianNB()\n",
        "\n",
        "gnb.fit(train, train_labels)\n",
        "\n",
        "predictions = gnb.predict(test)\n",
        "\n",
        "print(predictions)"
      ],
      "metadata": {
        "id": "EdnfoJJJsBNn"
      },
      "execution_count": null,
      "outputs": []
    },
    {
      "cell_type": "code",
      "source": [
        "\n",
        "from sklearn.metrics import accuracy_score\n",
        "\n",
        "print(accuracy_score(test_labels, predictions))"
      ],
      "metadata": {
        "id": "snad7_6RsEQ-"
      },
      "execution_count": null,
      "outputs": []
    }
  ]
}