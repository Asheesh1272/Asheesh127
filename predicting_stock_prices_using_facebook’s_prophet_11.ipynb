{
  "nbformat": 4,
  "nbformat_minor": 0,
  "metadata": {
    "colab": {
      "private_outputs": true,
      "provenance": [],
      "mount_file_id": "1sT8WJy4SsbbRRmUaJjV23cj0a2As2UfK",
      "authorship_tag": "ABX9TyPQCsA/UGZBqtqa+wUpHCUL",
      "include_colab_link": true
    },
    "kernelspec": {
      "name": "python3",
      "display_name": "Python 3"
    },
    "language_info": {
      "name": "python"
    }
  },
  "cells": [
    {
      "cell_type": "markdown",
      "metadata": {
        "id": "view-in-github",
        "colab_type": "text"
      },
      "source": [
        "<a href=\"https://colab.research.google.com/github/Asheesh1272/Asheesh127/blob/main/predicting_stock_prices_using_facebook%E2%80%99s_prophet_11.ipynb\" target=\"_parent\"><img src=\"https://colab.research.google.com/assets/colab-badge.svg\" alt=\"Open In Colab\"/></a>"
      ]
    },
    {
      "cell_type": "code",
      "source": [
        "!pip install prophet"
      ],
      "metadata": {
        "id": "8VnagRPMRIjJ"
      },
      "execution_count": null,
      "outputs": []
    },
    {
      "cell_type": "code",
      "source": [
        "import pandas as pd\n",
        "import numpy as np\n",
        "import matplotlib.pyplot as plt\n",
        "import prophet as fbp\n",
        "from sklearn.metrics import mean_squared_error, mean_absolute_error\n",
        "# Use fivethirtyeight plot style\n",
        "plt.style.use('fivethirtyeight')\n",
        "\n",
        "# This code is modified by Susobhan Akhuli"
      ],
      "metadata": {
        "id": "hgbn3WS7RPxV"
      },
      "execution_count": null,
      "outputs": []
    },
    {
      "cell_type": "code",
      "source": [
        "# We will be using amazon share price data which can be downloaded from YAHOO finance website.\n",
        "df = pd.read_csv(\"/content/sample_data/synthetic_stock_data.csv\")\n",
        "df.head()"
      ],
      "metadata": {
        "id": "8jGKOKFJRVJM"
      },
      "execution_count": null,
      "outputs": []
    },
    {
      "source": [
        "from google.colab import sheets\n",
        "sheet = sheets.InteractiveSheet(df=df)"
      ],
      "cell_type": "code",
      "execution_count": null,
      "outputs": [],
      "metadata": {
        "cellView": "form",
        "id": "nl_KGyL9MZul"
      }
    },
    {
      "source": [
        "# @title Sector\n",
        "\n",
        "from matplotlib import pyplot as plt\n",
        "import seaborn as sns\n",
        "df.groupby('Sector').size().plot(kind='barh', color=sns.palettes.mpl_palette('Dark2'))\n",
        "plt.gca().spines[['top', 'right',]].set_visible(False)"
      ],
      "cell_type": "code",
      "execution_count": null,
      "outputs": [],
      "metadata": {
        "id": "ZYLg1gQ5MVOF"
      }
    },
    {
      "source": [
        "from google.colab import sheets\n",
        "sheet = sheets.InteractiveSheet(df=df)"
      ],
      "cell_type": "code",
      "execution_count": null,
      "outputs": [],
      "metadata": {
        "cellView": "form",
        "id": "2dS7xHPkR8d5"
      }
    },
    {
      "cell_type": "code",
      "source": [
        "df.describe() # Replace data with df to describe the loaded DataFrame"
      ],
      "metadata": {
        "id": "eIBqPftcTLu2"
      },
      "execution_count": null,
      "outputs": []
    },
    {
      "source": [
        "from matplotlib import pyplot as plt\n",
        "_df_0['Open'].plot(kind='hist', bins=20, title='Open')\n",
        "plt.gca().spines[['top', 'right',]].set_visible(False)"
      ],
      "cell_type": "code",
      "metadata": {
        "id": "cRs1H0PqUkyf"
      },
      "execution_count": null,
      "outputs": []
    },
    {
      "cell_type": "code",
      "source": [
        "!pip install fbprophet"
      ],
      "metadata": {
        "id": "xlZG3z4nTdtg"
      },
      "execution_count": null,
      "outputs": []
    },
    {
      "cell_type": "code",
      "source": [
        "from fbprophet import Prophet\n",
        "m = Prophet(daily_seasonality = True)\n",
        "m.fit(data)"
      ],
      "metadata": {
        "id": "gLckUXfVTm05"
      },
      "execution_count": null,
      "outputs": []
    },
    {
      "cell_type": "code",
      "source": [
        "from fbprophet import Prophet\n",
        "m = Prophet(daily_seasonality = True) # the Prophet class (model)\n",
        "m.fit(df) # fit the model using the loaded DataFrame 'df' instead of 'data'\n",
        "future = m.make_future_dataframe(periods=365) #we need to specify the number of days in future\n",
        "prediction = m.predict(future)\n",
        "m.plot(prediction)\n",
        "plt.title(\"Prediction of the Tesla Stock Price using the Prophet\")\n",
        "plt.xlabel(\"Date\")\n",
        "plt.ylabel(\"Close Stock Price\")\n",
        "plt.show()"
      ],
      "metadata": {
        "id": "dQ9ov5FiURsa"
      },
      "execution_count": null,
      "outputs": []
    }
  ]
}